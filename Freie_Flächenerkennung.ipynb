{
  "nbformat": 4,
  "nbformat_minor": 0,
  "metadata": {
    "colab": {
      "provenance": [],
      "authorship_tag": "ABX9TyPX5SXFbsM2y2Sm3SQZd+/W",
      "include_colab_link": true
    },
    "kernelspec": {
      "name": "python3",
      "display_name": "Python 3"
    },
    "language_info": {
      "name": "python"
    }
  },
  "cells": [
    {
      "cell_type": "markdown",
      "metadata": {
        "id": "view-in-github",
        "colab_type": "text"
      },
      "source": [
        "<a href=\"https://colab.research.google.com/github/alex1grrt/Machine-Learning-Projects/blob/main/Freie_Fl%C3%A4chenerkennung.ipynb\" target=\"_parent\"><img src=\"https://colab.research.google.com/assets/colab-badge.svg\" alt=\"Open In Colab\"/></a>"
      ]
    },
    {
      "cell_type": "code",
      "source": [
        "import tensorflow as tf"
      ],
      "metadata": {
        "id": "s4sFNhu57260"
      },
      "execution_count": null,
      "outputs": []
    },
    {
      "cell_type": "code",
      "source": [
        "import numpy as np\n",
        "import matplotlib.pyplot as plt\n",
        "from tensorflow.keras.layers import Flatten, Dense\n",
        "from tensorflow.keras.models import Model \n",
        "from tensorflow.keras.optimizers import Adam, SGD\n"
      ],
      "metadata": {
        "id": "7wNy7w-p72-D"
      },
      "execution_count": null,
      "outputs": []
    },
    {
      "cell_type": "code",
      "source": [
        "vgg = tf.keras.applications.VGG16(\n",
        "    input_shape=[100, 100, 3], include_top=False, weights='imagenet')"
      ],
      "metadata": {
        "id": "Npaucx2073A9"
      },
      "execution_count": null,
      "outputs": []
    },
    {
      "cell_type": "code",
      "source": [
        "x = Flatten()(vgg.output)\n",
        "x = Dense(4, activation='sigmoid')(x)\n",
        "model = Model(vgg.input, x)"
      ],
      "metadata": {
        "id": "E2aHDL0N73Dt"
      },
      "execution_count": null,
      "outputs": []
    },
    {
      "cell_type": "code",
      "source": [
        "def image_generator(batch_size=64):     \n",
        "  while True:\n",
        "    for _ in range(50):\n",
        "      X = np.zeros((batch_size, 100, 100, 3))\n",
        "      Y = np.zeros((batch_size, 4))\n",
        "\n",
        "      for i in range(batch_size):\n",
        "        row0 = np.random.randint(90)\n",
        "        col0 = np.random.randint(90)\n",
        "        row1 = np.random.randint(row0, 100)   \n",
        "        col1 = np.random.randint(col0, 100)\n",
        "        X[i,row0:row1,col0:col1,:] = 1\n",
        "        Y[i,0] = row0/100.\n",
        "        Y[i,1] = col0/100.\n",
        "        Y[i,2] = (row1 - row0)/100.\n",
        "        Y[i,3] = (col1 - col0)/100.\n",
        "\n",
        "      yield X, Y"
      ],
      "metadata": {
        "id": "scqYTobN73Gx"
      },
      "execution_count": null,
      "outputs": []
    },
    {
      "cell_type": "code",
      "source": [
        "model.compile(loss='binary_crossentropy',\n",
        "              optimizer=Adam(learning_rate=0.001))"
      ],
      "metadata": {
        "id": "ruDfHt-E73JZ"
      },
      "execution_count": null,
      "outputs": []
    },
    {
      "cell_type": "code",
      "source": [
        "model.fit_generator(\n",
        "    image_generator(),\n",
        "    steps_per_epoch=50,\n",
        "    epochs=5\n",
        ")"
      ],
      "metadata": {
        "id": "xC0r1P1w-dJj"
      },
      "execution_count": null,
      "outputs": []
    },
    {
      "cell_type": "code",
      "source": [
        "from matplotlib.patches import Rectangle"
      ],
      "metadata": {
        "id": "-SPs3Ncc-dMJ"
      },
      "execution_count": null,
      "outputs": []
    },
    {
      "cell_type": "code",
      "source": [
        "def make_prediction():\n",
        "  x = np.zeros((100, 100, 3))\n",
        "  row0 = np.random.randint(90)\n",
        "  col0 = np.random.randint(90)\n",
        "  row1 = np.random.randint(row0, 100)   \n",
        "  col1 = np.random.randint(col0, 100)\n",
        "  x[row0:row1,col0:col1,:] = 1\n",
        "  print(row0, col0, row1, col1)"
      ],
      "metadata": {
        "id": "VsWhwImN-dOY"
      },
      "execution_count": null,
      "outputs": []
    },
    {
      "cell_type": "code",
      "source": [
        "X = np.expand_dims(x, 0)\n",
        "p = model.predict(X)[0]"
      ],
      "metadata": {
        "id": "s6lwVqsX-dQz"
      },
      "execution_count": null,
      "outputs": []
    },
    {
      "cell_type": "code",
      "source": [
        "fig, ax = plt.subplots(1)\n",
        "ax.imshow(x)\n",
        "rect = Rectangle(\n",
        "    (p[1]*100, p[0]*100),\n",
        "    p[3]*100, p[2]*100, linewidth=1,edgecolor='r', facecolor='none')\n",
        "ax.add_patch(rect)\n",
        "plt.show()"
      ],
      "metadata": {
        "id": "Rgaqt9k4-dTU"
      },
      "execution_count": null,
      "outputs": []
    },
    {
      "cell_type": "code",
      "source": [
        "make_prediction()"
      ],
      "metadata": {
        "id": "QGkU0FPz-dVl"
      },
      "execution_count": null,
      "outputs": []
    },
    {
      "cell_type": "code",
      "source": [],
      "metadata": {
        "id": "4ugjDbhi-dZJ"
      },
      "execution_count": null,
      "outputs": []
    },
    {
      "cell_type": "code",
      "source": [],
      "metadata": {
        "id": "Ph8XK3UxBoZy"
      },
      "execution_count": null,
      "outputs": []
    },
    {
      "cell_type": "code",
      "source": [],
      "metadata": {
        "id": "U1toeAQyBoco"
      },
      "execution_count": null,
      "outputs": []
    },
    {
      "cell_type": "code",
      "source": [],
      "metadata": {
        "id": "ov8sOwcXBofk"
      },
      "execution_count": null,
      "outputs": []
    },
    {
      "cell_type": "code",
      "source": [],
      "metadata": {
        "id": "TvuutXP6BoiS"
      },
      "execution_count": null,
      "outputs": []
    },
    {
      "cell_type": "code",
      "source": [],
      "metadata": {
        "id": "iLkwGbqFBolD"
      },
      "execution_count": null,
      "outputs": []
    }
  ]
}